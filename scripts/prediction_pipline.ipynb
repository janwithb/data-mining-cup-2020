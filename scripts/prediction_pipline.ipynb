{
 "cells": [
  {
   "cell_type": "code",
   "execution_count": 154,
   "metadata": {},
   "outputs": [],
   "source": [
    "import datetime\n",
    "import matplotlib.dates as mdates\n",
    "import pandas as pd\n",
    "import matplotlib.pyplot as plt\n",
    "import numpy as np\n",
    "\n",
    "from sklearn.preprocessing import StandardScaler\n",
    "from sklearn.ensemble import IsolationForest"
   ]
  },
  {
   "cell_type": "code",
   "execution_count": 155,
   "metadata": {},
   "outputs": [],
   "source": [
    "# get data from csv\n",
    "infos = pd.read_csv('../data/infos.csv', sep='|')\n",
    "items = pd.read_csv('../data/items.csv', sep='|')\n",
    "orders = pd.read_csv('../data/orders.csv', sep='|')\n",
    "orders['time'] = pd.to_datetime(orders.time)\n",
    "orders['time'] = orders['time'].dt.strftime('%Y-%m-%d')"
   ]
  },
  {
   "cell_type": "code",
   "execution_count": 156,
   "metadata": {},
   "outputs": [],
   "source": [
    "# aggregate 'order' and 'salesPrice' per day per product\n",
    "agg_orders = orders.groupby(['itemID', 'time']).agg({'order': 'sum'})"
   ]
  },
  {
   "cell_type": "code",
   "execution_count": 157,
   "metadata": {},
   "outputs": [],
   "source": [
    "def get_item(item_id):\n",
    "    # get item by itemID\n",
    "    item = agg_orders.loc[item_id]\n",
    "    idx = pd.date_range('2018-01-01', '2018-06-29')\n",
    "    item.index = pd.DatetimeIndex(item.index)\n",
    "    item = item.reindex(idx, fill_value=0)\n",
    "    item.index = pd.to_datetime(item.index)\n",
    "    item = item.reset_index()\n",
    "    item.index = item.index + 1\n",
    "    item = item.rename(columns={'index': 'time'})\n",
    "    return(item)"
   ]
  },
  {
   "cell_type": "code",
   "execution_count": 158,
   "metadata": {},
   "outputs": [],
   "source": [
    "def add_feature_promotion(item):\n",
    "    # apply standard scaling to data\n",
    "    data = item[['order']]\n",
    "    scaler = StandardScaler()\n",
    "    np_scaled = scaler.fit_transform(data)\n",
    "    data = pd.DataFrame(np_scaled)\n",
    "\n",
    "    # train isolation forest\n",
    "    model = IsolationForest(contamination=0.05)\n",
    "    model.fit(data)\n",
    "    item['promotion'] = model.predict(data)\n",
    "    return item"
   ]
  },
  {
   "cell_type": "code",
   "execution_count": 159,
   "metadata": {},
   "outputs": [],
   "source": [
    "def add_feature_weekday(item):\n",
    "    item['weekday'] = item['time'].dt.dayofweek\n",
    "    return item"
   ]
  },
  {
   "cell_type": "code",
   "execution_count": 160,
   "metadata": {},
   "outputs": [],
   "source": [
    "# Hier kannst du dein neues Feature einfügen\n",
    "def add_feature_custom(item):\n",
    "    # TODO\n",
    "    return item"
   ]
  },
  {
   "cell_type": "code",
   "execution_count": 161,
   "metadata": {},
   "outputs": [],
   "source": [
    "def train_model(X_train, y_train):\n",
    "    # TODO\n",
    "    model = None\n",
    "    return model"
   ]
  },
  {
   "cell_type": "code",
   "execution_count": 162,
   "metadata": {},
   "outputs": [],
   "source": [
    "def get_prediction_data(item_id):\n",
    "    promotions = infos[infos['itemID'] == item_id]['promotion']\n",
    "    if promotions.isnull().values[0] == True:\n",
    "        promotions = []\n",
    "    else:\n",
    "        promotions = promotions.values[0].split(',')\n",
    "    day_range = pd.date_range('2018-06-30', periods=14, freq='D')\n",
    "    X_pred = pd.DataFrame({'time': day_range})\n",
    "    X_pred.loc[df['time'].isin(promotions),'promotion'] = -1\n",
    "    X_pred.loc[~df['time'].isin(promotions),'promotion'] = 1\n",
    "    return X_pred"
   ]
  },
  {
   "cell_type": "code",
   "execution_count": 163,
   "metadata": {},
   "outputs": [],
   "source": [
    "def get_prediction(model, X_pred):\n",
    "    # TODO\n",
    "    prediction = None\n",
    "    return prediction"
   ]
  },
  {
   "cell_type": "code",
   "execution_count": null,
   "metadata": {},
   "outputs": [],
   "source": [
    "# main loop\n",
    "result_df = pd.DataFrame(columns=['itemID', 'demandPrediction'])\n",
    "for item_id, group in agg_orders.groupby(['itemID']):\n",
    "    # get item and add features\n",
    "    item = get_item(item_id)\n",
    "    item = add_feature_promotion(item)\n",
    "    item = add_feature_weekday(item)\n",
    "    #item = add_feature_custom(item)\n",
    "    \n",
    "    # create training dataset\n",
    "    X_train = item[['promotion', 'weekday']]\n",
    "    y_train = item['order'][:166]\n",
    "    \n",
    "    # train model with all data\n",
    "    model = train_model(X_train, y_train)\n",
    "    \n",
    "    # get prediction data\n",
    "    X_pred = get_prediction_data(item_id)\n",
    "    \n",
    "    # get prediction\n",
    "    prediction = get_prediction(model, X_pred)\n",
    "    \n",
    "    # append prediction to result dataframe\n",
    "    result_df = result_df.append({'itemID': item_id, 'demandPrediction': prediction}, ignore_index=True)"
   ]
  },
  {
   "cell_type": "code",
   "execution_count": 164,
   "metadata": {},
   "outputs": [],
   "source": [
    "# convert result dataframe to output format\n",
    "result_df.set_index('itemID', inplace=True)\n",
    "index = pd.RangeIndex(1, 10464)\n",
    "result_df = result_df.reindex(index).fillna(0)\n",
    "result_df = result_df.reset_index()\n",
    "result_df = result_df.rename(columns={'index': 'itemID'})"
   ]
  },
  {
   "cell_type": "code",
   "execution_count": 165,
   "metadata": {},
   "outputs": [],
   "source": [
    "# safe dataframe to CSV\n",
    "result_df.to_csv('Inst_Tech_Karlsruhe_2.csv', index=False, sep='|')"
   ]
  }
 ],
 "metadata": {
  "kernelspec": {
   "display_name": "data-mining",
   "language": "python",
   "name": "data-mining"
  },
  "language_info": {
   "codemirror_mode": {
    "name": "ipython",
    "version": 3
   },
   "file_extension": ".py",
   "mimetype": "text/x-python",
   "name": "python",
   "nbconvert_exporter": "python",
   "pygments_lexer": "ipython3",
   "version": "3.7.7"
  }
 },
 "nbformat": 4,
 "nbformat_minor": 4
}
